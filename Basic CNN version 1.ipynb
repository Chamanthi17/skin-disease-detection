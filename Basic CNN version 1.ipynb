{
 "cells": [
  {
   "cell_type": "code",
   "execution_count": 1,
   "id": "ec68730f",
   "metadata": {},
   "outputs": [],
   "source": [
    "import pandas as pd\n",
    "import numpy as np\n",
    "import warnings\n",
    "warnings.filterwarnings(\"ignore\")"
   ]
  },
  {
   "cell_type": "code",
   "execution_count": 2,
   "id": "306ed58e",
   "metadata": {},
   "outputs": [],
   "source": [
    "df=pd.read_csv('hmnist_28_28_RGB.csv')"
   ]
  },
  {
   "cell_type": "code",
   "execution_count": 3,
   "id": "050debc5",
   "metadata": {},
   "outputs": [
    {
     "data": {
      "text/html": [
       "<div>\n",
       "<style scoped>\n",
       "    .dataframe tbody tr th:only-of-type {\n",
       "        vertical-align: middle;\n",
       "    }\n",
       "\n",
       "    .dataframe tbody tr th {\n",
       "        vertical-align: top;\n",
       "    }\n",
       "\n",
       "    .dataframe thead th {\n",
       "        text-align: right;\n",
       "    }\n",
       "</style>\n",
       "<table border=\"1\" class=\"dataframe\">\n",
       "  <thead>\n",
       "    <tr style=\"text-align: right;\">\n",
       "      <th></th>\n",
       "      <th>pixel0000</th>\n",
       "      <th>pixel0001</th>\n",
       "      <th>pixel0002</th>\n",
       "      <th>pixel0003</th>\n",
       "      <th>pixel0004</th>\n",
       "      <th>pixel0005</th>\n",
       "      <th>pixel0006</th>\n",
       "      <th>pixel0007</th>\n",
       "      <th>pixel0008</th>\n",
       "      <th>pixel0009</th>\n",
       "      <th>...</th>\n",
       "      <th>pixel2343</th>\n",
       "      <th>pixel2344</th>\n",
       "      <th>pixel2345</th>\n",
       "      <th>pixel2346</th>\n",
       "      <th>pixel2347</th>\n",
       "      <th>pixel2348</th>\n",
       "      <th>pixel2349</th>\n",
       "      <th>pixel2350</th>\n",
       "      <th>pixel2351</th>\n",
       "      <th>label</th>\n",
       "    </tr>\n",
       "  </thead>\n",
       "  <tbody>\n",
       "    <tr>\n",
       "      <th>0</th>\n",
       "      <td>192</td>\n",
       "      <td>153</td>\n",
       "      <td>193</td>\n",
       "      <td>195</td>\n",
       "      <td>155</td>\n",
       "      <td>192</td>\n",
       "      <td>197</td>\n",
       "      <td>154</td>\n",
       "      <td>185</td>\n",
       "      <td>202</td>\n",
       "      <td>...</td>\n",
       "      <td>173</td>\n",
       "      <td>124</td>\n",
       "      <td>138</td>\n",
       "      <td>183</td>\n",
       "      <td>147</td>\n",
       "      <td>166</td>\n",
       "      <td>185</td>\n",
       "      <td>154</td>\n",
       "      <td>177</td>\n",
       "      <td>2</td>\n",
       "    </tr>\n",
       "    <tr>\n",
       "      <th>1</th>\n",
       "      <td>25</td>\n",
       "      <td>14</td>\n",
       "      <td>30</td>\n",
       "      <td>68</td>\n",
       "      <td>48</td>\n",
       "      <td>75</td>\n",
       "      <td>123</td>\n",
       "      <td>93</td>\n",
       "      <td>126</td>\n",
       "      <td>158</td>\n",
       "      <td>...</td>\n",
       "      <td>60</td>\n",
       "      <td>39</td>\n",
       "      <td>55</td>\n",
       "      <td>25</td>\n",
       "      <td>14</td>\n",
       "      <td>28</td>\n",
       "      <td>25</td>\n",
       "      <td>14</td>\n",
       "      <td>27</td>\n",
       "      <td>2</td>\n",
       "    </tr>\n",
       "    <tr>\n",
       "      <th>2</th>\n",
       "      <td>192</td>\n",
       "      <td>138</td>\n",
       "      <td>153</td>\n",
       "      <td>200</td>\n",
       "      <td>145</td>\n",
       "      <td>163</td>\n",
       "      <td>201</td>\n",
       "      <td>142</td>\n",
       "      <td>160</td>\n",
       "      <td>206</td>\n",
       "      <td>...</td>\n",
       "      <td>167</td>\n",
       "      <td>129</td>\n",
       "      <td>143</td>\n",
       "      <td>159</td>\n",
       "      <td>124</td>\n",
       "      <td>142</td>\n",
       "      <td>136</td>\n",
       "      <td>104</td>\n",
       "      <td>117</td>\n",
       "      <td>2</td>\n",
       "    </tr>\n",
       "    <tr>\n",
       "      <th>3</th>\n",
       "      <td>38</td>\n",
       "      <td>19</td>\n",
       "      <td>30</td>\n",
       "      <td>95</td>\n",
       "      <td>59</td>\n",
       "      <td>72</td>\n",
       "      <td>143</td>\n",
       "      <td>103</td>\n",
       "      <td>119</td>\n",
       "      <td>171</td>\n",
       "      <td>...</td>\n",
       "      <td>44</td>\n",
       "      <td>26</td>\n",
       "      <td>36</td>\n",
       "      <td>25</td>\n",
       "      <td>12</td>\n",
       "      <td>17</td>\n",
       "      <td>25</td>\n",
       "      <td>12</td>\n",
       "      <td>15</td>\n",
       "      <td>2</td>\n",
       "    </tr>\n",
       "    <tr>\n",
       "      <th>4</th>\n",
       "      <td>158</td>\n",
       "      <td>113</td>\n",
       "      <td>139</td>\n",
       "      <td>194</td>\n",
       "      <td>144</td>\n",
       "      <td>174</td>\n",
       "      <td>215</td>\n",
       "      <td>162</td>\n",
       "      <td>191</td>\n",
       "      <td>225</td>\n",
       "      <td>...</td>\n",
       "      <td>209</td>\n",
       "      <td>166</td>\n",
       "      <td>185</td>\n",
       "      <td>172</td>\n",
       "      <td>135</td>\n",
       "      <td>149</td>\n",
       "      <td>109</td>\n",
       "      <td>78</td>\n",
       "      <td>92</td>\n",
       "      <td>2</td>\n",
       "    </tr>\n",
       "  </tbody>\n",
       "</table>\n",
       "<p>5 rows × 2353 columns</p>\n",
       "</div>"
      ],
      "text/plain": [
       "   pixel0000  pixel0001  pixel0002  pixel0003  pixel0004  pixel0005  \\\n",
       "0        192        153        193        195        155        192   \n",
       "1         25         14         30         68         48         75   \n",
       "2        192        138        153        200        145        163   \n",
       "3         38         19         30         95         59         72   \n",
       "4        158        113        139        194        144        174   \n",
       "\n",
       "   pixel0006  pixel0007  pixel0008  pixel0009  ...  pixel2343  pixel2344  \\\n",
       "0        197        154        185        202  ...        173        124   \n",
       "1        123         93        126        158  ...         60         39   \n",
       "2        201        142        160        206  ...        167        129   \n",
       "3        143        103        119        171  ...         44         26   \n",
       "4        215        162        191        225  ...        209        166   \n",
       "\n",
       "   pixel2345  pixel2346  pixel2347  pixel2348  pixel2349  pixel2350  \\\n",
       "0        138        183        147        166        185        154   \n",
       "1         55         25         14         28         25         14   \n",
       "2        143        159        124        142        136        104   \n",
       "3         36         25         12         17         25         12   \n",
       "4        185        172        135        149        109         78   \n",
       "\n",
       "   pixel2351  label  \n",
       "0        177      2  \n",
       "1         27      2  \n",
       "2        117      2  \n",
       "3         15      2  \n",
       "4         92      2  \n",
       "\n",
       "[5 rows x 2353 columns]"
      ]
     },
     "execution_count": 3,
     "metadata": {},
     "output_type": "execute_result"
    }
   ],
   "source": [
    "df.head()"
   ]
  },
  {
   "cell_type": "code",
   "execution_count": 4,
   "id": "be6c7615",
   "metadata": {},
   "outputs": [
    {
     "data": {
      "text/plain": [
       "array([6, 1, 4, 2, 0, 5, 3], dtype=int64)"
      ]
     },
     "execution_count": 4,
     "metadata": {},
     "output_type": "execute_result"
    }
   ],
   "source": [
    "fractions=np.array([0.8,0.2])\n",
    "df=df.sample(frac=1)\n",
    "train_set, test_set = np.array_split(\n",
    "    df, (fractions[:-1].cumsum() * len(df)).astype(int))\n",
    "     \n",
    "df.label.unique()"
   ]
  },
  {
   "cell_type": "code",
   "execution_count": 5,
   "id": "1272e68a",
   "metadata": {},
   "outputs": [],
   "source": [
    "classes={0:('akiec', 'actinic keratoses and intraepithelial carcinomae'),\n",
    "         1:('bcc' , 'basal cell carcinoma'),\n",
    "         2:('bkl', 'benign keratosis-like lesions'),\n",
    "         3:('df', 'dermatofibroma'),\n",
    "         4:('nv', ' melanocytic nevi'),\n",
    "         5:('vasc', ' pyogenic granulomas and hemorrhage'),\n",
    "         6:('mel', 'melanoma'),}\n",
    "     \n",
    "\n",
    "y_train=train_set['label']\n",
    "x_train=train_set.drop(columns=['label'])\n",
    "y_test=test_set['label']\n",
    "x_test=test_set.drop(columns=['label'])\n",
    "\n",
    "columns=list(x_train)"
   ]
  },
  {
   "cell_type": "code",
   "execution_count": 6,
   "id": "f2bb5957",
   "metadata": {},
   "outputs": [
    {
     "data": {
      "text/plain": [
       "<AxesSubplot:xlabel='label', ylabel='count'>"
      ]
     },
     "execution_count": 6,
     "metadata": {},
     "output_type": "execute_result"
    },
    {
     "data": {
      "image/png": "[encoded data removed]",
      "text/plain": [
       "<Figure size 432x288 with 1 Axes>"
      ]
     },
     "metadata": {
      "needs_background": "light"
     },
     "output_type": "display_data"
    }
   ],
   "source": [
    "import seaborn as sns\n",
    "\n",
    "sns.countplot(train_set['label'])"
   ]
  },
  {
   "cell_type": "code",
   "execution_count": 7,
   "id": "e3136077",
   "metadata": {},
   "outputs": [],
   "source": [
    "from imblearn.over_sampling import RandomOverSampler \n",
    "oversample = RandomOverSampler()\n",
    "x_train,y_train  = oversample.fit_resample(x_train,y_train)"
   ]
  },
  {
   "cell_type": "code",
   "execution_count": 8,
   "id": "8665c19f",
   "metadata": {},
   "outputs": [
    {
     "data": {
      "text/plain": [
       "<AxesSubplot:xlabel='label', ylabel='count'>"
      ]
     },
     "execution_count": 8,
     "metadata": {},
     "output_type": "execute_result"
    },
    {
     "data": {
      "image/png": "[encoded data removed]",
      "text/plain": [
       "<Figure size 432x288 with 1 Axes>"
      ]
     },
     "metadata": {
      "needs_background": "light"
     },
     "output_type": "display_data"
    }
   ],
   "source": [
    "sns.countplot(y_train)"
   ]
  },
  {
   "cell_type": "code",
   "execution_count": 9,
   "id": "79bdf05f",
   "metadata": {},
   "outputs": [
    {
     "data": {
      "image/png": "[encoded data removed]",
      "text/plain": [
       "<Figure size 432x288 with 1 Axes>"
      ]
     },
     "metadata": {
      "needs_background": "light"
     },
     "output_type": "display_data"
    },
    {
     "data": {
      "image/png": "[encoded data removed]",
      "text/plain": [
       "<Figure size 432x288 with 1 Axes>"
      ]
     },
     "metadata": {
      "needs_background": "light"
     },
     "output_type": "display_data"
    },
    {
     "data": {
      "image/png": "[encoded data removed]",
      "text/plain": [
       "<Figure size 432x288 with 1 Axes>"
      ]
     },
     "metadata": {
      "needs_background": "light"
     },
     "output_type": "display_data"
    }
   ],
   "source": [
    "import matplotlib.pyplot as plt\n",
    "import random\n",
    "num=random.randint(0,8000)\n",
    "x_train=np.array(x_train, dtype=np.uint8).reshape(-1,28,28,3)\n",
    "\n",
    "plt.imshow(x_train[num].reshape(28,28,3))\n",
    "plt.title(\"Random image from training data\")\n",
    "plt.show()\n",
    "num=random.randint(0,8000)\n",
    "plt.imshow(x_train[num].reshape(28,28,3))\n",
    "plt.title(\"Random image from training data\")\n",
    "plt.show()\n",
    "\n",
    "num=random.randint(0,8000)\n",
    "plt.imshow(x_train[num].reshape(28,28,3))\n",
    "plt.title(\"Random image from training data\")\n",
    "plt.show()"
   ]
  },
  {
   "cell_type": "code",
   "execution_count": 10,
   "id": "be20201e",
   "metadata": {},
   "outputs": [
    {
     "name": "stdout",
     "output_type": "stream",
     "text": [
      "Model: \"sequential\"\n",
      "_________________________________________________________________\n",
      " Layer (type)                Output Shape              Param #   \n",
      "=================================================================\n",
      " conv2d (Conv2D)             (None, 28, 28, 16)        448       \n",
      "                                                                 \n",
      " max_pooling2d (MaxPooling2D  (None, 14, 14, 16)       0         \n",
      " )                                                               \n",
      "                                                                 \n",
      " batch_normalization (BatchN  (None, 14, 14, 16)       64        \n",
      " ormalization)                                                   \n",
      "                                                                 \n",
      " conv2d_1 (Conv2D)           (None, 12, 12, 32)        4640      \n",
      "                                                                 \n",
      " conv2d_2 (Conv2D)           (None, 10, 10, 64)        18496     \n",
      "                                                                 \n",
      " max_pooling2d_1 (MaxPooling  (None, 5, 5, 64)         0         \n",
      " 2D)                                                             \n",
      "                                                                 \n",
      " batch_normalization_1 (Batc  (None, 5, 5, 64)         256       \n",
      " hNormalization)                                                 \n",
      "                                                                 \n",
      " conv2d_3 (Conv2D)           (None, 3, 3, 128)         73856     \n",
      "                                                                 \n",
      " conv2d_4 (Conv2D)           (None, 1, 1, 256)         295168    \n",
      "                                                                 \n",
      " flatten (Flatten)           (None, 256)               0         \n",
      "                                                                 \n",
      " dropout (Dropout)           (None, 256)               0         \n",
      "                                                                 \n",
      " dense (Dense)               (None, 256)               65792     \n",
      "                                                                 \n",
      " batch_normalization_2 (Batc  (None, 256)              1024      \n",
      " hNormalization)                                                 \n",
      "                                                                 \n",
      " dropout_1 (Dropout)         (None, 256)               0         \n",
      "                                                                 \n",
      " dense_1 (Dense)             (None, 128)               32896     \n",
      "                                                                 \n",
      " batch_normalization_3 (Batc  (None, 128)              512       \n",
      " hNormalization)                                                 \n",
      "                                                                 \n",
      " dense_2 (Dense)             (None, 64)                8256      \n",
      "                                                                 \n",
      " batch_normalization_4 (Batc  (None, 64)               256       \n",
      " hNormalization)                                                 \n",
      "                                                                 \n",
      " dropout_2 (Dropout)         (None, 64)                0         \n",
      "                                                                 \n",
      " dense_3 (Dense)             (None, 32)                2080      \n",
      "                                                                 \n",
      " batch_normalization_5 (Batc  (None, 32)               128       \n",
      " hNormalization)                                                 \n",
      "                                                                 \n",
      " dense_4 (Dense)             (None, 7)                 231       \n",
      "                                                                 \n",
      "=================================================================\n",
      "Total params: 504,103\n",
      "Trainable params: 502,983\n",
      "Non-trainable params: 1,120\n",
      "_________________________________________________________________\n"
     ]
    }
   ],
   "source": [
    "from tensorflow.keras.models import Sequential\n",
    "from tensorflow.keras.layers import Conv2D, Flatten, Dense, MaxPool2D\n",
    "import tensorflow as tf\n",
    "     \n",
    "\n",
    "model = Sequential()\n",
    "model.add(Conv2D(16, kernel_size = (3,3), input_shape = (28, 28, 3), activation = 'relu', padding = 'same'))\n",
    "model.add(MaxPool2D(pool_size = (2,2)))\n",
    "model.add(tf.keras.layers.BatchNormalization())\n",
    "model.add(Conv2D(32, kernel_size = (3,3), activation = 'relu'))\n",
    "model.add(Conv2D(64, kernel_size = (3,3), activation = 'relu'))\n",
    "model.add(MaxPool2D(pool_size = (2,2)))\n",
    "model.add(tf.keras.layers.BatchNormalization())\n",
    "model.add(Conv2D(128, kernel_size = (3,3), activation = 'relu'))\n",
    "model.add(Conv2D(256, kernel_size = (3,3), activation = 'relu'))\n",
    "model.add(Flatten())\n",
    "model.add(tf.keras.layers.Dropout(0.2))\n",
    "model.add(Dense(256,activation='relu'))\n",
    "model.add(tf.keras.layers.BatchNormalization())\n",
    "model.add(tf.keras.layers.Dropout(0.2))\n",
    "model.add(Dense(128,activation='relu'))\n",
    "model.add(tf.keras.layers.BatchNormalization())\n",
    "model.add(Dense(64,activation='relu'))\n",
    "model.add(tf.keras.layers.BatchNormalization())\n",
    "model.add(tf.keras.layers.Dropout(0.2))\n",
    "model.add(Dense(32,activation='relu'))\n",
    "model.add(tf.keras.layers.BatchNormalization())\n",
    "model.add(Dense(7,activation='softmax'))\n",
    "\n",
    "model.summary()"
   ]
  },
  {
   "cell_type": "code",
   "execution_count": 12,
   "id": "7815baa9",
   "metadata": {},
   "outputs": [
    {
     "name": "stderr",
     "output_type": "stream",
     "text": [
      "WARNING:absl:`lr` is deprecated, please use `learning_rate` instead, or use the legacy optimizer, e.g.,tf.keras.optimizers.legacy.Adam.\n"
     ]
    },
    {
     "name": "stdout",
     "output_type": "stream",
     "text": [
      "Epoch 1/50\n",
      "235/235 [==============================] - ETA: 0s - loss: 0.0313 - accuracy: 0.9898WARNING:tensorflow:Can save best model only with val_acc available, skipping.\n"
     ]
    },
    {
     "name": "stderr",
     "output_type": "stream",
     "text": [
      "WARNING:tensorflow:Can save best model only with val_acc available, skipping.\n"
     ]
    },
    {
     "name": "stdout",
     "output_type": "stream",
     "text": [
      "235/235 [==============================] - 48s 182ms/step - loss: 0.0313 - accuracy: 0.9898 - val_loss: 0.1335 - val_accuracy: 0.9389\n",
      "Epoch 2/50\n",
      "235/235 [==============================] - ETA: 0s - loss: 0.0265 - accuracy: 0.9910WARNING:tensorflow:Can save best model only with val_acc available, skipping.\n"
     ]
    },
    {
     "name": "stderr",
     "output_type": "stream",
     "text": [
      "WARNING:tensorflow:Can save best model only with val_acc available, skipping.\n"
     ]
    },
    {
     "name": "stdout",
     "output_type": "stream",
     "text": [
      "235/235 [==============================] - 40s 169ms/step - loss: 0.0265 - accuracy: 0.9910 - val_loss: 0.4953 - val_accuracy: 0.8406\n",
      "Epoch 3/50\n",
      "235/235 [==============================] - ETA: 0s - loss: 0.0332 - accuracy: 0.9890WARNING:tensorflow:Can save best model only with val_acc available, skipping.\n"
     ]
    },
    {
     "name": "stderr",
     "output_type": "stream",
     "text": [
      "WARNING:tensorflow:Can save best model only with val_acc available, skipping.\n"
     ]
    },
    {
     "name": "stdout",
     "output_type": "stream",
     "text": [
      "235/235 [==============================] - 36s 155ms/step - loss: 0.0332 - accuracy: 0.9890 - val_loss: 0.1742 - val_accuracy: 0.9433\n",
      "Epoch 4/50\n",
      "235/235 [==============================] - ETA: 0s - loss: 0.0275 - accuracy: 0.9914WARNING:tensorflow:Can save best model only with val_acc available, skipping.\n"
     ]
    },
    {
     "name": "stderr",
     "output_type": "stream",
     "text": [
      "WARNING:tensorflow:Can save best model only with val_acc available, skipping.\n"
     ]
    },
    {
     "name": "stdout",
     "output_type": "stream",
     "text": [
      "235/235 [==============================] - 32s 138ms/step - loss: 0.0275 - accuracy: 0.9914 - val_loss: 0.2350 - val_accuracy: 0.9190\n",
      "Epoch 5/50\n",
      "235/235 [==============================] - ETA: 0s - loss: 0.0175 - accuracy: 0.9941WARNING:tensorflow:Can save best model only with val_acc available, skipping.\n"
     ]
    },
    {
     "name": "stderr",
     "output_type": "stream",
     "text": [
      "WARNING:tensorflow:Can save best model only with val_acc available, skipping.\n"
     ]
    },
    {
     "name": "stdout",
     "output_type": "stream",
     "text": [
      "235/235 [==============================] - 29s 125ms/step - loss: 0.0175 - accuracy: 0.9941 - val_loss: 0.1095 - val_accuracy: 0.9567\n",
      "Epoch 6/50\n",
      "235/235 [==============================] - ETA: 0s - loss: 0.0199 - accuracy: 0.9935WARNING:tensorflow:Can save best model only with val_acc available, skipping.\n"
     ]
    },
    {
     "name": "stderr",
     "output_type": "stream",
     "text": [
      "WARNING:tensorflow:Can save best model only with val_acc available, skipping.\n"
     ]
    },
    {
     "name": "stdout",
     "output_type": "stream",
     "text": [
      "235/235 [==============================] - 29s 125ms/step - loss: 0.0199 - accuracy: 0.9935 - val_loss: 0.0886 - val_accuracy: 0.9672\n",
      "Epoch 7/50\n",
      "235/235 [==============================] - ETA: 0s - loss: 0.0321 - accuracy: 0.9896WARNING:tensorflow:Can save best model only with val_acc available, skipping.\n"
     ]
    },
    {
     "name": "stderr",
     "output_type": "stream",
     "text": [
      "WARNING:tensorflow:Can save best model only with val_acc available, skipping.\n"
     ]
    },
    {
     "name": "stdout",
     "output_type": "stream",
     "text": [
      "235/235 [==============================] - 29s 125ms/step - loss: 0.0321 - accuracy: 0.9896 - val_loss: 0.4708 - val_accuracy: 0.8540\n",
      "Epoch 8/50\n",
      "235/235 [==============================] - ETA: 0s - loss: 0.0210 - accuracy: 0.9935WARNING:tensorflow:Can save best model only with val_acc available, skipping.\n"
     ]
    },
    {
     "name": "stderr",
     "output_type": "stream",
     "text": [
      "WARNING:tensorflow:Can save best model only with val_acc available, skipping.\n"
     ]
    },
    {
     "name": "stdout",
     "output_type": "stream",
     "text": [
      "235/235 [==============================] - 29s 124ms/step - loss: 0.0210 - accuracy: 0.9935 - val_loss: 0.4687 - val_accuracy: 0.8443\n",
      "Epoch 9/50\n",
      "235/235 [==============================] - ETA: 0s - loss: 0.0233 - accuracy: 0.9924WARNING:tensorflow:Can save best model only with val_acc available, skipping.\n"
     ]
    },
    {
     "name": "stderr",
     "output_type": "stream",
     "text": [
      "WARNING:tensorflow:Can save best model only with val_acc available, skipping.\n"
     ]
    },
    {
     "name": "stdout",
     "output_type": "stream",
     "text": [
      "235/235 [==============================] - 30s 129ms/step - loss: 0.0233 - accuracy: 0.9924 - val_loss: 0.0787 - val_accuracy: 0.9731\n",
      "Epoch 10/50\n",
      "235/235 [==============================] - ETA: 0s - loss: 0.0253 - accuracy: 0.9915WARNING:tensorflow:Can save best model only with val_acc available, skipping.\n"
     ]
    },
    {
     "name": "stderr",
     "output_type": "stream",
     "text": [
      "WARNING:tensorflow:Can save best model only with val_acc available, skipping.\n"
     ]
    },
    {
     "name": "stdout",
     "output_type": "stream",
     "text": [
      "235/235 [==============================] - 34s 145ms/step - loss: 0.0253 - accuracy: 0.9915 - val_loss: 0.2310 - val_accuracy: 0.9405\n",
      "Epoch 11/50\n",
      "235/235 [==============================] - ETA: 0s - loss: 0.0170 - accuracy: 0.9945WARNING:tensorflow:Can save best model only with val_acc available, skipping.\n"
     ]
    },
    {
     "name": "stderr",
     "output_type": "stream",
     "text": [
      "WARNING:tensorflow:Can save best model only with val_acc available, skipping.\n"
     ]
    },
    {
     "name": "stdout",
     "output_type": "stream",
     "text": [
      "235/235 [==============================] - 30s 126ms/step - loss: 0.0170 - accuracy: 0.9945 - val_loss: 0.0778 - val_accuracy: 0.9756\n",
      "Epoch 12/50\n",
      "235/235 [==============================] - ETA: 0s - loss: 0.0146 - accuracy: 0.9955WARNING:tensorflow:Can save best model only with val_acc available, skipping.\n"
     ]
    },
    {
     "name": "stderr",
     "output_type": "stream",
     "text": [
      "WARNING:tensorflow:Can save best model only with val_acc available, skipping.\n"
     ]
    },
    {
     "name": "stdout",
     "output_type": "stream",
     "text": [
      "235/235 [==============================] - 30s 127ms/step - loss: 0.0146 - accuracy: 0.9955 - val_loss: 0.0259 - val_accuracy: 0.9892\n",
      "Epoch 13/50\n",
      "235/235 [==============================] - ETA: 0s - loss: 0.0176 - accuracy: 0.9946WARNING:tensorflow:Can save best model only with val_acc available, skipping.\n"
     ]
    },
    {
     "name": "stderr",
     "output_type": "stream",
     "text": [
      "WARNING:tensorflow:Can save best model only with val_acc available, skipping.\n"
     ]
    },
    {
     "name": "stdout",
     "output_type": "stream",
     "text": [
      "235/235 [==============================] - 30s 128ms/step - loss: 0.0176 - accuracy: 0.9946 - val_loss: 0.2083 - val_accuracy: 0.9384\n",
      "Epoch 14/50\n",
      "235/235 [==============================] - ETA: 0s - loss: 0.0133 - accuracy: 0.9957WARNING:tensorflow:Can save best model only with val_acc available, skipping.\n"
     ]
    },
    {
     "name": "stderr",
     "output_type": "stream",
     "text": [
      "WARNING:tensorflow:Can save best model only with val_acc available, skipping.\n"
     ]
    },
    {
     "name": "stdout",
     "output_type": "stream",
     "text": [
      "235/235 [==============================] - 36s 154ms/step - loss: 0.0133 - accuracy: 0.9957 - val_loss: 0.0098 - val_accuracy: 0.9965\n",
      "Epoch 15/50\n",
      "235/235 [==============================] - ETA: 0s - loss: 0.0095 - accuracy: 0.9973WARNING:tensorflow:Can save best model only with val_acc available, skipping.\n"
     ]
    },
    {
     "name": "stderr",
     "output_type": "stream",
     "text": [
      "WARNING:tensorflow:Can save best model only with val_acc available, skipping.\n"
     ]
    },
    {
     "name": "stdout",
     "output_type": "stream",
     "text": [
      "235/235 [==============================] - 43s 181ms/step - loss: 0.0095 - accuracy: 0.9973 - val_loss: 0.1040 - val_accuracy: 0.9668\n",
      "Epoch 16/50\n",
      "235/235 [==============================] - ETA: 0s - loss: 0.0281 - accuracy: 0.9920WARNING:tensorflow:Can save best model only with val_acc available, skipping.\n"
     ]
    },
    {
     "name": "stderr",
     "output_type": "stream",
     "text": [
      "WARNING:tensorflow:Can save best model only with val_acc available, skipping.\n"
     ]
    },
    {
     "name": "stdout",
     "output_type": "stream",
     "text": [
      "235/235 [==============================] - 46s 194ms/step - loss: 0.0281 - accuracy: 0.9920 - val_loss: 0.0251 - val_accuracy: 0.9896\n",
      "Epoch 17/50\n",
      "235/235 [==============================] - ETA: 0s - loss: 0.0149 - accuracy: 0.9957WARNING:tensorflow:Can save best model only with val_acc available, skipping.\n"
     ]
    },
    {
     "name": "stderr",
     "output_type": "stream",
     "text": [
      "WARNING:tensorflow:Can save best model only with val_acc available, skipping.\n"
     ]
    },
    {
     "name": "stdout",
     "output_type": "stream",
     "text": [
      "235/235 [==============================] - 47s 199ms/step - loss: 0.0149 - accuracy: 0.9957 - val_loss: 0.2939 - val_accuracy: 0.9211\n",
      "Epoch 18/50\n",
      "235/235 [==============================] - ETA: 0s - loss: 0.0129 - accuracy: 0.9961WARNING:tensorflow:Can save best model only with val_acc available, skipping.\n"
     ]
    },
    {
     "name": "stderr",
     "output_type": "stream",
     "text": [
      "WARNING:tensorflow:Can save best model only with val_acc available, skipping.\n"
     ]
    },
    {
     "name": "stdout",
     "output_type": "stream",
     "text": [
      "235/235 [==============================] - 52s 223ms/step - loss: 0.0129 - accuracy: 0.9961 - val_loss: 0.7839 - val_accuracy: 0.8271\n",
      "Epoch 19/50\n",
      "235/235 [==============================] - ETA: 0s - loss: 0.0223 - accuracy: 0.9935WARNING:tensorflow:Can save best model only with val_acc available, skipping.\n"
     ]
    },
    {
     "name": "stderr",
     "output_type": "stream",
     "text": [
      "WARNING:tensorflow:Can save best model only with val_acc available, skipping.\n"
     ]
    },
    {
     "name": "stdout",
     "output_type": "stream",
     "text": [
      "235/235 [==============================] - 42s 180ms/step - loss: 0.0223 - accuracy: 0.9935 - val_loss: 0.0389 - val_accuracy: 0.9868\n",
      "Epoch 20/50\n",
      "235/235 [==============================] - ETA: 0s - loss: 0.0091 - accuracy: 0.9973WARNING:tensorflow:Can save best model only with val_acc available, skipping.\n"
     ]
    },
    {
     "name": "stderr",
     "output_type": "stream",
     "text": [
      "WARNING:tensorflow:Can save best model only with val_acc available, skipping.\n"
     ]
    },
    {
     "name": "stdout",
     "output_type": "stream",
     "text": [
      "235/235 [==============================] - 36s 152ms/step - loss: 0.0091 - accuracy: 0.9973 - val_loss: 0.0189 - val_accuracy: 0.9928\n",
      "Epoch 21/50\n",
      "235/235 [==============================] - ETA: 0s - loss: 0.0131 - accuracy: 0.9957WARNING:tensorflow:Can save best model only with val_acc available, skipping.\n"
     ]
    },
    {
     "name": "stderr",
     "output_type": "stream",
     "text": [
      "WARNING:tensorflow:Can save best model only with val_acc available, skipping.\n"
     ]
    },
    {
     "name": "stdout",
     "output_type": "stream",
     "text": [
      "235/235 [==============================] - 36s 152ms/step - loss: 0.0131 - accuracy: 0.9957 - val_loss: 0.4954 - val_accuracy: 0.8530\n",
      "Epoch 22/50\n",
      "235/235 [==============================] - ETA: 0s - loss: 0.0129 - accuracy: 0.9958WARNING:tensorflow:Can save best model only with val_acc available, skipping.\n"
     ]
    },
    {
     "name": "stderr",
     "output_type": "stream",
     "text": [
      "WARNING:tensorflow:Can save best model only with val_acc available, skipping.\n"
     ]
    },
    {
     "name": "stdout",
     "output_type": "stream",
     "text": [
      "235/235 [==============================] - 37s 156ms/step - loss: 0.0129 - accuracy: 0.9958 - val_loss: 0.0354 - val_accuracy: 0.9848\n",
      "Epoch 23/50\n",
      "235/235 [==============================] - ETA: 0s - loss: 0.0152 - accuracy: 0.9952WARNING:tensorflow:Can save best model only with val_acc available, skipping.\n"
     ]
    },
    {
     "name": "stderr",
     "output_type": "stream",
     "text": [
      "WARNING:tensorflow:Can save best model only with val_acc available, skipping.\n"
     ]
    },
    {
     "name": "stdout",
     "output_type": "stream",
     "text": [
      "235/235 [==============================] - 41s 174ms/step - loss: 0.0152 - accuracy: 0.9952 - val_loss: 0.2361 - val_accuracy: 0.9242\n",
      "Epoch 24/50\n",
      "235/235 [==============================] - ETA: 0s - loss: 0.0222 - accuracy: 0.9928WARNING:tensorflow:Can save best model only with val_acc available, skipping.\n"
     ]
    },
    {
     "name": "stderr",
     "output_type": "stream",
     "text": [
      "WARNING:tensorflow:Can save best model only with val_acc available, skipping.\n"
     ]
    },
    {
     "name": "stdout",
     "output_type": "stream",
     "text": [
      "235/235 [==============================] - 41s 173ms/step - loss: 0.0222 - accuracy: 0.9928 - val_loss: 0.1148 - val_accuracy: 0.9641\n",
      "Epoch 25/50\n",
      "235/235 [==============================] - ETA: 0s - loss: 0.0144 - accuracy: 0.9953WARNING:tensorflow:Can save best model only with val_acc available, skipping.\n"
     ]
    },
    {
     "name": "stderr",
     "output_type": "stream",
     "text": [
      "WARNING:tensorflow:Can save best model only with val_acc available, skipping.\n"
     ]
    },
    {
     "name": "stdout",
     "output_type": "stream",
     "text": [
      "235/235 [==============================] - 39s 166ms/step - loss: 0.0144 - accuracy: 0.9953 - val_loss: 0.2405 - val_accuracy: 0.9318\n",
      "Epoch 26/50\n",
      "235/235 [==============================] - ETA: 0s - loss: 0.0128 - accuracy: 0.9960WARNING:tensorflow:Can save best model only with val_acc available, skipping.\n"
     ]
    },
    {
     "name": "stderr",
     "output_type": "stream",
     "text": [
      "WARNING:tensorflow:Can save best model only with val_acc available, skipping.\n"
     ]
    },
    {
     "name": "stdout",
     "output_type": "stream",
     "text": [
      "235/235 [==============================] - 37s 159ms/step - loss: 0.0128 - accuracy: 0.9960 - val_loss: 0.1131 - val_accuracy: 0.9607\n",
      "Epoch 27/50\n",
      "235/235 [==============================] - ETA: 0s - loss: 0.0060 - accuracy: 0.9985WARNING:tensorflow:Can save best model only with val_acc available, skipping.\n"
     ]
    },
    {
     "name": "stderr",
     "output_type": "stream",
     "text": [
      "WARNING:tensorflow:Can save best model only with val_acc available, skipping.\n"
     ]
    },
    {
     "name": "stdout",
     "output_type": "stream",
     "text": [
      "235/235 [==============================] - 41s 174ms/step - loss: 0.0060 - accuracy: 0.9985 - val_loss: 0.0631 - val_accuracy: 0.9769\n",
      "Epoch 28/50\n",
      "235/235 [==============================] - ETA: 0s - loss: 0.0089 - accuracy: 0.9974WARNING:tensorflow:Can save best model only with val_acc available, skipping.\n"
     ]
    },
    {
     "name": "stderr",
     "output_type": "stream",
     "text": [
      "WARNING:tensorflow:Can save best model only with val_acc available, skipping.\n"
     ]
    },
    {
     "name": "stdout",
     "output_type": "stream",
     "text": [
      "235/235 [==============================] - 45s 193ms/step - loss: 0.0089 - accuracy: 0.9974 - val_loss: 0.0354 - val_accuracy: 0.9888\n",
      "Epoch 29/50\n",
      "235/235 [==============================] - ETA: 0s - loss: 0.0139 - accuracy: 0.9961WARNING:tensorflow:Can save best model only with val_acc available, skipping.\n"
     ]
    },
    {
     "name": "stderr",
     "output_type": "stream",
     "text": [
      "WARNING:tensorflow:Can save best model only with val_acc available, skipping.\n"
     ]
    },
    {
     "name": "stdout",
     "output_type": "stream",
     "text": [
      "235/235 [==============================] - 42s 177ms/step - loss: 0.0139 - accuracy: 0.9961 - val_loss: 0.2838 - val_accuracy: 0.9134\n",
      "Epoch 30/50\n",
      "235/235 [==============================] - ETA: 0s - loss: 0.0113 - accuracy: 0.9965WARNING:tensorflow:Can save best model only with val_acc available, skipping.\n"
     ]
    },
    {
     "name": "stderr",
     "output_type": "stream",
     "text": [
      "WARNING:tensorflow:Can save best model only with val_acc available, skipping.\n"
     ]
    },
    {
     "name": "stdout",
     "output_type": "stream",
     "text": [
      "235/235 [==============================] - 41s 175ms/step - loss: 0.0113 - accuracy: 0.9965 - val_loss: 0.1190 - val_accuracy: 0.9643\n",
      "Epoch 31/50\n",
      "235/235 [==============================] - ETA: 0s - loss: 0.0090 - accuracy: 0.9968WARNING:tensorflow:Can save best model only with val_acc available, skipping.\n"
     ]
    },
    {
     "name": "stderr",
     "output_type": "stream",
     "text": [
      "WARNING:tensorflow:Can save best model only with val_acc available, skipping.\n"
     ]
    },
    {
     "name": "stdout",
     "output_type": "stream",
     "text": [
      "235/235 [==============================] - 44s 186ms/step - loss: 0.0090 - accuracy: 0.9968 - val_loss: 0.0193 - val_accuracy: 0.9931\n",
      "Epoch 32/50\n",
      "235/235 [==============================] - ETA: 0s - loss: 0.0155 - accuracy: 0.9954WARNING:tensorflow:Can save best model only with val_acc available, skipping.\n"
     ]
    },
    {
     "name": "stderr",
     "output_type": "stream",
     "text": [
      "WARNING:tensorflow:Can save best model only with val_acc available, skipping.\n"
     ]
    },
    {
     "name": "stdout",
     "output_type": "stream",
     "text": [
      "235/235 [==============================] - 46s 196ms/step - loss: 0.0155 - accuracy: 0.9954 - val_loss: 0.3272 - val_accuracy: 0.9130\n",
      "Epoch 33/50\n",
      "235/235 [==============================] - ETA: 0s - loss: 0.0120 - accuracy: 0.9967WARNING:tensorflow:Can save best model only with val_acc available, skipping.\n"
     ]
    },
    {
     "name": "stderr",
     "output_type": "stream",
     "text": [
      "WARNING:tensorflow:Can save best model only with val_acc available, skipping.\n"
     ]
    },
    {
     "name": "stdout",
     "output_type": "stream",
     "text": [
      "235/235 [==============================] - 37s 159ms/step - loss: 0.0120 - accuracy: 0.9967 - val_loss: 0.0062 - val_accuracy: 0.9976\n",
      "Epoch 34/50\n",
      "235/235 [==============================] - ETA: 0s - loss: 0.0150 - accuracy: 0.9957WARNING:tensorflow:Can save best model only with val_acc available, skipping.\n"
     ]
    },
    {
     "name": "stderr",
     "output_type": "stream",
     "text": [
      "WARNING:tensorflow:Can save best model only with val_acc available, skipping.\n"
     ]
    },
    {
     "name": "stdout",
     "output_type": "stream",
     "text": [
      "235/235 [==============================] - 39s 166ms/step - loss: 0.0150 - accuracy: 0.9957 - val_loss: 0.2377 - val_accuracy: 0.9267\n",
      "Epoch 35/50\n",
      "235/235 [==============================] - ETA: 0s - loss: 0.0125 - accuracy: 0.9963WARNING:tensorflow:Can save best model only with val_acc available, skipping.\n"
     ]
    },
    {
     "name": "stderr",
     "output_type": "stream",
     "text": [
      "WARNING:tensorflow:Can save best model only with val_acc available, skipping.\n"
     ]
    },
    {
     "name": "stdout",
     "output_type": "stream",
     "text": [
      "235/235 [==============================] - 34s 143ms/step - loss: 0.0125 - accuracy: 0.9963 - val_loss: 0.1807 - val_accuracy: 0.9473\n",
      "Epoch 36/50\n",
      "235/235 [==============================] - ETA: 0s - loss: 0.0084 - accuracy: 0.9975WARNING:tensorflow:Can save best model only with val_acc available, skipping.\n"
     ]
    },
    {
     "name": "stderr",
     "output_type": "stream",
     "text": [
      "WARNING:tensorflow:Can save best model only with val_acc available, skipping.\n"
     ]
    },
    {
     "name": "stdout",
     "output_type": "stream",
     "text": [
      "235/235 [==============================] - 32s 137ms/step - loss: 0.0084 - accuracy: 0.9975 - val_loss: 0.5824 - val_accuracy: 0.8582\n",
      "Epoch 37/50\n",
      "235/235 [==============================] - ETA: 0s - loss: 0.0107 - accuracy: 0.9967WARNING:tensorflow:Can save best model only with val_acc available, skipping.\n"
     ]
    },
    {
     "name": "stderr",
     "output_type": "stream",
     "text": [
      "WARNING:tensorflow:Can save best model only with val_acc available, skipping.\n"
     ]
    },
    {
     "name": "stdout",
     "output_type": "stream",
     "text": [
      "235/235 [==============================] - 45s 190ms/step - loss: 0.0107 - accuracy: 0.9967 - val_loss: 1.2497 - val_accuracy: 0.7474\n",
      "Epoch 38/50\n",
      "235/235 [==============================] - ETA: 0s - loss: 0.0120 - accuracy: 0.9959WARNING:tensorflow:Can save best model only with val_acc available, skipping.\n"
     ]
    },
    {
     "name": "stderr",
     "output_type": "stream",
     "text": [
      "WARNING:tensorflow:Can save best model only with val_acc available, skipping.\n"
     ]
    },
    {
     "name": "stdout",
     "output_type": "stream",
     "text": [
      "235/235 [==============================] - 44s 187ms/step - loss: 0.0120 - accuracy: 0.9959 - val_loss: 0.1249 - val_accuracy: 0.9679\n",
      "Epoch 39/50\n",
      "235/235 [==============================] - ETA: 0s - loss: 0.0160 - accuracy: 0.9953WARNING:tensorflow:Can save best model only with val_acc available, skipping.\n"
     ]
    },
    {
     "name": "stderr",
     "output_type": "stream",
     "text": [
      "WARNING:tensorflow:Can save best model only with val_acc available, skipping.\n"
     ]
    },
    {
     "name": "stdout",
     "output_type": "stream",
     "text": [
      "235/235 [==============================] - 36s 154ms/step - loss: 0.0160 - accuracy: 0.9953 - val_loss: 0.0627 - val_accuracy: 0.9785\n",
      "Epoch 40/50\n",
      "235/235 [==============================] - ETA: 0s - loss: 0.0079 - accuracy: 0.9974WARNING:tensorflow:Can save best model only with val_acc available, skipping.\n"
     ]
    },
    {
     "name": "stderr",
     "output_type": "stream",
     "text": [
      "WARNING:tensorflow:Can save best model only with val_acc available, skipping.\n"
     ]
    },
    {
     "name": "stdout",
     "output_type": "stream",
     "text": [
      "235/235 [==============================] - 39s 166ms/step - loss: 0.0079 - accuracy: 0.9974 - val_loss: 0.0433 - val_accuracy: 0.9900\n",
      "Epoch 41/50\n",
      "235/235 [==============================] - ETA: 0s - loss: 0.0086 - accuracy: 0.9972WARNING:tensorflow:Can save best model only with val_acc available, skipping.\n"
     ]
    },
    {
     "name": "stderr",
     "output_type": "stream",
     "text": [
      "WARNING:tensorflow:Can save best model only with val_acc available, skipping.\n"
     ]
    },
    {
     "name": "stdout",
     "output_type": "stream",
     "text": [
      "235/235 [==============================] - 36s 155ms/step - loss: 0.0086 - accuracy: 0.9972 - val_loss: 0.0846 - val_accuracy: 0.9756\n",
      "Epoch 42/50\n",
      "235/235 [==============================] - ETA: 0s - loss: 0.0069 - accuracy: 0.9980WARNING:tensorflow:Can save best model only with val_acc available, skipping.\n"
     ]
    },
    {
     "name": "stderr",
     "output_type": "stream",
     "text": [
      "WARNING:tensorflow:Can save best model only with val_acc available, skipping.\n"
     ]
    },
    {
     "name": "stdout",
     "output_type": "stream",
     "text": [
      "235/235 [==============================] - 39s 164ms/step - loss: 0.0069 - accuracy: 0.9980 - val_loss: 0.0293 - val_accuracy: 0.9891\n",
      "Epoch 43/50\n",
      "235/235 [==============================] - ETA: 0s - loss: 0.0074 - accuracy: 0.9974WARNING:tensorflow:Can save best model only with val_acc available, skipping.\n"
     ]
    },
    {
     "name": "stderr",
     "output_type": "stream",
     "text": [
      "WARNING:tensorflow:Can save best model only with val_acc available, skipping.\n"
     ]
    },
    {
     "name": "stdout",
     "output_type": "stream",
     "text": [
      "235/235 [==============================] - 40s 170ms/step - loss: 0.0074 - accuracy: 0.9974 - val_loss: 0.4440 - val_accuracy: 0.8871\n",
      "Epoch 44/50\n",
      "235/235 [==============================] - ETA: 0s - loss: 0.0068 - accuracy: 0.9976WARNING:tensorflow:Can save best model only with val_acc available, skipping.\n"
     ]
    },
    {
     "name": "stderr",
     "output_type": "stream",
     "text": [
      "WARNING:tensorflow:Can save best model only with val_acc available, skipping.\n"
     ]
    },
    {
     "name": "stdout",
     "output_type": "stream",
     "text": [
      "235/235 [==============================] - 39s 165ms/step - loss: 0.0068 - accuracy: 0.9976 - val_loss: 0.0020 - val_accuracy: 0.9989\n",
      "Epoch 45/50\n",
      "235/235 [==============================] - ETA: 0s - loss: 0.0076 - accuracy: 0.9978WARNING:tensorflow:Can save best model only with val_acc available, skipping.\n"
     ]
    },
    {
     "name": "stderr",
     "output_type": "stream",
     "text": [
      "WARNING:tensorflow:Can save best model only with val_acc available, skipping.\n"
     ]
    },
    {
     "name": "stdout",
     "output_type": "stream",
     "text": [
      "235/235 [==============================] - 44s 186ms/step - loss: 0.0076 - accuracy: 0.9978 - val_loss: 0.2870 - val_accuracy: 0.9210\n",
      "Epoch 46/50\n",
      "235/235 [==============================] - ETA: 0s - loss: 0.0176 - accuracy: 0.9951WARNING:tensorflow:Can save best model only with val_acc available, skipping.\n"
     ]
    },
    {
     "name": "stderr",
     "output_type": "stream",
     "text": [
      "WARNING:tensorflow:Can save best model only with val_acc available, skipping.\n"
     ]
    },
    {
     "name": "stdout",
     "output_type": "stream",
     "text": [
      "235/235 [==============================] - 56s 236ms/step - loss: 0.0176 - accuracy: 0.9951 - val_loss: 0.0034 - val_accuracy: 0.9987\n",
      "Epoch 47/50\n",
      "235/235 [==============================] - ETA: 0s - loss: 0.0080 - accuracy: 0.9976WARNING:tensorflow:Can save best model only with val_acc available, skipping.\n"
     ]
    },
    {
     "name": "stderr",
     "output_type": "stream",
     "text": [
      "WARNING:tensorflow:Can save best model only with val_acc available, skipping.\n"
     ]
    },
    {
     "name": "stdout",
     "output_type": "stream",
     "text": [
      "235/235 [==============================] - 60s 254ms/step - loss: 0.0080 - accuracy: 0.9976 - val_loss: 0.0148 - val_accuracy: 0.9933\n",
      "Epoch 48/50\n",
      "235/235 [==============================] - ETA: 0s - loss: 0.0047 - accuracy: 0.9989WARNING:tensorflow:Can save best model only with val_acc available, skipping.\n"
     ]
    },
    {
     "name": "stderr",
     "output_type": "stream",
     "text": [
      "WARNING:tensorflow:Can save best model only with val_acc available, skipping.\n"
     ]
    },
    {
     "name": "stdout",
     "output_type": "stream",
     "text": [
      "235/235 [==============================] - 59s 253ms/step - loss: 0.0047 - accuracy: 0.9989 - val_loss: 3.2013 - val_accuracy: 0.5057\n",
      "Epoch 49/50\n",
      "235/235 [==============================] - ETA: 0s - loss: 0.0131 - accuracy: 0.9965WARNING:tensorflow:Can save best model only with val_acc available, skipping.\n"
     ]
    },
    {
     "name": "stderr",
     "output_type": "stream",
     "text": [
      "WARNING:tensorflow:Can save best model only with val_acc available, skipping.\n"
     ]
    },
    {
     "name": "stdout",
     "output_type": "stream",
     "text": [
      "235/235 [==============================] - 48s 203ms/step - loss: 0.0131 - accuracy: 0.9965 - val_loss: 0.0782 - val_accuracy: 0.9764\n",
      "Epoch 50/50\n",
      "235/235 [==============================] - ETA: 0s - loss: 0.0081 - accuracy: 0.9978WARNING:tensorflow:Can save best model only with val_acc available, skipping.\n"
     ]
    },
    {
     "name": "stderr",
     "output_type": "stream",
     "text": [
      "WARNING:tensorflow:Can save best model only with val_acc available, skipping.\n"
     ]
    },
    {
     "name": "stdout",
     "output_type": "stream",
     "text": [
      "\b\b\b\b\b\b\b\b\b\b\b\b\b\b\b\b\b\b\b\b\b\b\b\b\b\b\b\b\b\b\b\b\b\b\b\b\b\b\b\b\b\b\b\b\b\b\b\b\b\b\b\b\b\b\b\b\b\b\b\b\b\b\b\b\b\b\b\b\b\b\b\b\b\b\b\b\b\b\b\b\b\b\b\b\r",
      "235/235 [==============================] - 35s 149ms/step - loss: 0.0081 - accuracy: 0.9978 - val_loss: 0.0132 - val_accuracy: 0.9961\n"
     ]
    }
   ],
   "source": [
    "callback = tf.keras.callbacks.ModelCheckpoint(filepath='model2.h5',\n",
    "                                                  monitor='val_acc', mode='max',\n",
    "                                                 verbose=1, save_best_only=True)\n",
    "     \n",
    "\n",
    "optimizer=tf.keras.optimizers.Adam(lr=0.001)\n",
    "model.compile(loss = 'sparse_categorical_crossentropy',\n",
    "             optimizer =optimizer,\n",
    "              metrics = ['accuracy'])\n",
    "history = model.fit(x_train,\n",
    "                    y_train,\n",
    "                    validation_split=0.2,\n",
    "                    batch_size = 128,\n",
    "                    epochs = 50,\n",
    "                    shuffle=True,\n",
    "                    callbacks=[callback])\n"
   ]
  },
  {
   "cell_type": "code",
   "execution_count": 13,
   "id": "a38bb17d",
   "metadata": {},
   "outputs": [
    {
     "data": {
      "image/png": "[encoded data removed]",
      "text/plain": [
       "<Figure size 432x288 with 1 Axes>"
      ]
     },
     "metadata": {
      "needs_background": "light"
     },
     "output_type": "display_data"
    }
   ],
   "source": [
    "plt.plot(history.history['accuracy'])\n",
    "plt.plot(history.history['val_accuracy'])\n",
    "plt.title('model accuracy')\n",
    "plt.ylabel('accuracy')\n",
    "plt.xlabel('epoch')\n",
    "plt.legend(['train', 'val'], loc='upper left')\n",
    "plt.show()\n"
   ]
  },
  {
   "cell_type": "code",
   "execution_count": 14,
   "id": "2684095d",
   "metadata": {},
   "outputs": [
    {
     "data": {
      "image/png": "[encoded data removed]",
      "text/plain": [
       "<Figure size 432x288 with 1 Axes>"
      ]
     },
     "metadata": {
      "needs_background": "light"
     },
     "output_type": "display_data"
    }
   ],
   "source": [
    "plt.plot(history.history['loss'])\n",
    "plt.plot(history.history['val_loss'])\n",
    "plt.title('model loss')\n",
    "plt.ylabel('loss')\n",
    "plt.xlabel('epoch')\n",
    "plt.legend(['train', 'val'], loc='upper left')\n",
    "plt.show()"
   ]
  },
  {
   "cell_type": "code",
   "execution_count": 15,
   "id": "c38c5ab1",
   "metadata": {},
   "outputs": [
    {
     "name": "stdout",
     "output_type": "stream",
     "text": [
      "63/63 - 1s - loss: 1.5639 - accuracy: 0.7454 - 858ms/epoch - 14ms/step\n"
     ]
    }
   ],
   "source": [
    "model.save('model2.h5')\n",
    "model.load_weights('model2.h5')\n",
    "x_test=np.array(x_test).reshape(-1,28,28,3)\n",
    "loss, acc = model.evaluate(x_test, y_test, verbose=2)"
   ]
  },
  {
   "cell_type": "code",
   "execution_count": 16,
   "id": "92a93a58",
   "metadata": {},
   "outputs": [
    {
     "name": "stdout",
     "output_type": "stream",
     "text": [
      "63/63 [==============================] - 1s 8ms/step\n",
      "[[  17   14   11    0    9    0    7]\n",
      " [  10   48    8    5   21    2   10]\n",
      " [   6    9   93    2   83    1   13]\n",
      " [   2    0    4    7    7    0    0]\n",
      " [   3   14   46    2 1232    1   49]\n",
      " [   0    2    2    0    9   25    0]\n",
      " [   7    9   31    0  110    1   71]]\n"
     ]
    }
   ],
   "source": [
    "from sklearn.metrics import confusion_matrix\n",
    "y_pred = model.predict(x_test)\n",
    "y_pred = np.argmax(y_pred, axis=1)\n",
    "conf_mat = confusion_matrix(y_test, y_pred)\n",
    "print(conf_mat)"
   ]
  },
  {
   "cell_type": "code",
   "execution_count": 17,
   "id": "74f3e6c6",
   "metadata": {},
   "outputs": [
    {
     "data": {
      "image/png": "[encoded data removed]",
      "text/plain": [
       "<Figure size 720x720 with 2 Axes>"
      ]
     },
     "metadata": {
      "needs_background": "light"
     },
     "output_type": "display_data"
    }
   ],
   "source": [
    "import seaborn as sns\n",
    "import matplotlib.pyplot as plt\n",
    "fig, ax = plt.subplots(figsize=(10,10)) \n",
    "ax = sns.heatmap(conf_mat, annot=True, cmap='Blues', linewidths=.9, ax=ax)\n",
    "ax.set_title('Confusion Matrix with labels\\n\\n');\n",
    "ax.set_xlabel('\\nPredicted Values')\n",
    "ax.set_ylabel('Actual Values ');\n",
    "ax.xaxis.set_ticklabels(['0','1','2','3','4','5','6'])\n",
    "ax.yaxis.set_ticklabels(['0','1','2','3','4','5','6'])\n",
    "plt.show()"
   ]
  },
  {
   "cell_type": "code",
   "execution_count": 19,
   "id": "398932e3",
   "metadata": {},
   "outputs": [
    {
     "name": "stdout",
     "output_type": "stream",
     "text": [
      "              precision    recall  f1-score   support\n",
      "\n",
      "           0       0.38      0.29      0.33        58\n",
      "           1       0.50      0.46      0.48       104\n",
      "           2       0.48      0.45      0.46       207\n",
      "           3       0.44      0.35      0.39        20\n",
      "           4       0.84      0.91      0.87      1347\n",
      "           5       0.83      0.66      0.74        38\n",
      "           6       0.47      0.31      0.37       229\n",
      "\n",
      "    accuracy                           0.75      2003\n",
      "   macro avg       0.56      0.49      0.52      2003\n",
      "weighted avg       0.72      0.75      0.73      2003\n",
      "\n"
     ]
    }
   ],
   "source": [
    "import sklearn\n",
    "print(sklearn.metrics.classification_report(y_test, y_pred))"
   ]
  }
 ],
 "metadata": {
  "kernelspec": {
   "display_name": "Python 3 (ipykernel)",
   "language": "python",
   "name": "python3"
  },
  "language_info": {
   "codemirror_mode": {
    "name": "ipython",
    "version": 3
   },
   "file_extension": ".py",
   "mimetype": "text/x-python",
   "name": "python",
   "nbconvert_exporter": "python",
   "pygments_lexer": "ipython3",
   "version": "3.9.12"
  }
 },
 "nbformat": 4,
 "nbformat_minor": 5
}
