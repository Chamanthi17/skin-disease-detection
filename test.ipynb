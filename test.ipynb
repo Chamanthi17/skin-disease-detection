{
 "cells": [
  {
   "cell_type": "code",
   "execution_count": 7,
   "id": "c870a559",
   "metadata": {},
   "outputs": [],
   "source": [
    "from tensorflow import keras\n",
    "import numpy as np\n",
    "classes={0:('akiec', 'actinic keratoses and intraepithelial carcinomae'),\n",
    "         1:('bcc' , 'basal cell carcinoma'),\n",
    "         2:('bkl', 'benign keratosis-like lesions'),\n",
    "         3:('df', 'dermatofibroma'),\n",
    "         4:('nv', ' melanocytic nevi'),\n",
    "         5:('vasc', ' pyogenic granulomas and hemorrhage'),\n",
    "         6:('mel', 'melanoma'),}\n",
    "     \n"
   ]
  },
  {
   "cell_type": "code",
   "execution_count": 8,
   "id": "bd4d2de2",
   "metadata": {},
   "outputs": [],
   "source": [
    "model1 = keras.models.load_model('ensemble.h5')"
   ]
  },
  {
   "cell_type": "code",
   "execution_count": 9,
   "id": "203c79dc",
   "metadata": {},
   "outputs": [
    {
     "name": "stdout",
     "output_type": "stream",
     "text": [
      "1/1 [==============================] - 0s 316ms/step\n",
      "[4.2674819e-05 1.1881546e-05 9.2204071e-05 1.1497268e-05 9.0285232e-03\n",
      " 9.7219781e-05 9.9071598e-01]\n",
      "('mel', 'melanoma')\n"
     ]
    }
   ],
   "source": [
    "import PIL\n",
    "image=PIL.Image.open('OneDrive/Desktop/skin dataset/testing/mel1.jpg')\n",
    "image=image.resize((28,28))\n",
    "img=np.array(image).reshape(-1,28,28,3)\n",
    "result=model1.predict(img)\n",
    "print(result[0])\n",
    "result=result.tolist()\n",
    "max_prob=max(result[0])\n",
    "class_ind=result[0].index(max_prob)\n",
    "print(classes[class_ind])"
   ]
  },
  {
   "cell_type": "code",
   "execution_count": 10,
   "id": "09b5760d",
   "metadata": {},
   "outputs": [
    {
     "name": "stdout",
     "output_type": "stream",
     "text": [
      "1/1 [==============================] - 0s 24ms/step\n",
      "[3.0395711e-05 8.6379827e-05 4.5856475e-04 7.6461574e-06 9.6407556e-04\n",
      " 5.0243936e-05 9.9840277e-01]\n",
      "('mel', 'melanoma')\n"
     ]
    }
   ],
   "source": [
    "image=PIL.Image.open('OneDrive/Desktop/skin dataset/testing/mel2.jpg')\n",
    "image=image.resize((28,28))\n",
    "img=np.array(image).reshape(-1,28,28,3)\n",
    "result=model1.predict(img)\n",
    "print(result[0])\n",
    "result=result.tolist()\n",
    "max_prob=max(result[0])\n",
    "class_ind=result[0].index(max_prob)\n",
    "print(classes[class_ind])"
   ]
  },
  {
   "cell_type": "code",
   "execution_count": 11,
   "id": "5ff017bc",
   "metadata": {},
   "outputs": [
    {
     "name": "stdout",
     "output_type": "stream",
     "text": [
      "1/1 [==============================] - 0s 24ms/step\n",
      "[7.0854508e-06 9.9286253e-06 8.0278536e-05 3.5024470e-05 9.8013902e-01\n",
      " 2.5001002e-04 1.9478654e-02]\n",
      "('nv', ' melanocytic nevi')\n"
     ]
    }
   ],
   "source": [
    "image=PIL.Image.open('OneDrive/Desktop/skin dataset/testing/nv1.jpg')\n",
    "image=image.resize((28,28))\n",
    "img=np.array(image).reshape(-1,28,28,3)\n",
    "result=model1.predict(img)\n",
    "print(result[0])\n",
    "result=result.tolist()\n",
    "max_prob=max(result[0])\n",
    "class_ind=result[0].index(max_prob)\n",
    "print(classes[class_ind])"
   ]
  },
  {
   "cell_type": "code",
   "execution_count": 13,
   "id": "88ddb7d5",
   "metadata": {},
   "outputs": [
    {
     "name": "stdout",
     "output_type": "stream",
     "text": [
      "1/1 [==============================] - 0s 31ms/step\n",
      "[1.5203100e-04 4.6065828e-04 2.5611930e-03 7.0102036e-04 8.3493358e-01\n",
      " 1.4565378e-01 1.5537740e-02]\n",
      "('nv', ' melanocytic nevi')\n"
     ]
    }
   ],
   "source": [
    "image=PIL.Image.open('OneDrive/Desktop/skin dataset/testing/nv2.jpg')\n",
    "image=image.resize((28,28))\n",
    "img=np.array(image).reshape(-1,28,28,3)\n",
    "result=model1.predict(img)\n",
    "print(result[0])\n",
    "result=result.tolist()\n",
    "max_prob=max(result[0])\n",
    "class_ind=result[0].index(max_prob)\n",
    "print(classes[class_ind])"
   ]
  },
  {
   "cell_type": "code",
   "execution_count": 14,
   "id": "27abbbf7",
   "metadata": {},
   "outputs": [
    {
     "name": "stdout",
     "output_type": "stream",
     "text": [
      "1/1 [==============================] - 0s 16ms/step\n",
      "[1.8020841e-05 9.5128366e-05 9.9174589e-01 2.2999558e-05 7.8384075e-03\n",
      " 1.5036944e-05 2.6463735e-04]\n",
      "('bkl', 'benign keratosis-like lesions')\n"
     ]
    }
   ],
   "source": [
    "image=PIL.Image.open('OneDrive/Desktop/skin dataset/testing/bkl1.jpg')\n",
    "image=image.resize((28,28))\n",
    "img=np.array(image).reshape(-1,28,28,3)\n",
    "result=model1.predict(img)\n",
    "print(result[0])\n",
    "result=result.tolist()\n",
    "max_prob=max(result[0])\n",
    "class_ind=result[0].index(max_prob)\n",
    "print(classes[class_ind])"
   ]
  },
  {
   "cell_type": "code",
   "execution_count": 17,
   "id": "077c9113",
   "metadata": {},
   "outputs": [
    {
     "name": "stdout",
     "output_type": "stream",
     "text": [
      "1/1 [==============================] - 0s 16ms/step\n",
      "[5.3076127e-07 1.5596854e-07 9.9999821e-01 9.0124793e-08 1.7070319e-07\n",
      " 2.1881828e-08 8.5184075e-07]\n",
      "('bkl', 'benign keratosis-like lesions')\n"
     ]
    }
   ],
   "source": [
    "image=PIL.Image.open('OneDrive/Desktop/skin dataset/testing/bkl2.jpg')\n",
    "image=image.resize((28,28))\n",
    "img=np.array(image).reshape(-1,28,28,3)\n",
    "result=model1.predict(img)\n",
    "print(result[0])\n",
    "result=result.tolist()\n",
    "max_prob=max(result[0])\n",
    "class_ind=result[0].index(max_prob)\n",
    "print(classes[class_ind])"
   ]
  },
  {
   "cell_type": "code",
   "execution_count": 18,
   "id": "cd4cbccd",
   "metadata": {},
   "outputs": [
    {
     "name": "stdout",
     "output_type": "stream",
     "text": [
      "1/1 [==============================] - 0s 16ms/step\n",
      "[2.5448486e-08 1.0782701e-08 5.9341492e-09 9.9999893e-01 4.5540198e-09\n",
      " 9.6506676e-07 5.6162957e-08]\n",
      "('df', 'dermatofibroma')\n"
     ]
    }
   ],
   "source": [
    "import PIL\n",
    "image=PIL.Image.open('OneDrive/Desktop/skin dataset/testing/df1.jpg')\n",
    "image=image.resize((28,28))\n",
    "img=np.array(image).reshape(-1,28,28,3)\n",
    "result=model1.predict(img)\n",
    "print(result[0])\n",
    "result=result.tolist()\n",
    "max_prob=max(result[0])\n",
    "class_ind=result[0].index(max_prob)\n",
    "print(classes[class_ind])"
   ]
  },
  {
   "cell_type": "code",
   "execution_count": 19,
   "id": "4febeed5",
   "metadata": {},
   "outputs": [
    {
     "name": "stdout",
     "output_type": "stream",
     "text": [
      "1/1 [==============================] - 0s 16ms/step\n",
      "[7.0727560e-07 5.9398253e-06 1.3458621e-06 9.9999022e-01 8.5240771e-07\n",
      " 4.5490020e-07 5.1376696e-07]\n",
      "('df', 'dermatofibroma')\n"
     ]
    }
   ],
   "source": [
    "image=PIL.Image.open('OneDrive/Desktop/skin dataset/testing/df2.jpg')\n",
    "image=image.resize((28,28))\n",
    "img=np.array(image).reshape(-1,28,28,3)\n",
    "result=model1.predict(img)\n",
    "print(result[0])\n",
    "result=result.tolist()\n",
    "max_prob=max(result[0])\n",
    "class_ind=result[0].index(max_prob)\n",
    "print(classes[class_ind])"
   ]
  },
  {
   "cell_type": "code",
   "execution_count": 20,
   "id": "e3766d68",
   "metadata": {},
   "outputs": [
    {
     "name": "stdout",
     "output_type": "stream",
     "text": [
      "1/1 [==============================] - 0s 16ms/step\n",
      "[0.07161187 0.37597105 0.01362991 0.43390787 0.01246223 0.00088853\n",
      " 0.09152861]\n",
      "('df', 'dermatofibroma')\n"
     ]
    }
   ],
   "source": [
    "image=PIL.Image.open('OneDrive/Desktop/skin dataset/testing/akiec1.jpg')\n",
    "image=image.resize((28,28))\n",
    "img=np.array(image).reshape(-1,28,28,3)\n",
    "result=model1.predict(img)\n",
    "print(result[0])\n",
    "result=result.tolist()\n",
    "max_prob=max(result[0])\n",
    "class_ind=result[0].index(max_prob)\n",
    "print(classes[class_ind])"
   ]
  },
  {
   "cell_type": "code",
   "execution_count": 21,
   "id": "adfb1e71",
   "metadata": {},
   "outputs": [
    {
     "name": "stdout",
     "output_type": "stream",
     "text": [
      "1/1 [==============================] - 0s 31ms/step\n",
      "[9.9967551e-01 8.2672894e-05 6.2699408e-05 4.6383179e-06 1.0495329e-04\n",
      " 1.6277470e-05 5.3210362e-05]\n",
      "('akiec', 'actinic keratoses and intraepithelial carcinomae')\n"
     ]
    }
   ],
   "source": [
    "image=PIL.Image.open('OneDrive/Desktop/skin dataset/testing/akiec2.jpg')\n",
    "image=image.resize((28,28))\n",
    "img=np.array(image).reshape(-1,28,28,3)\n",
    "result=model1.predict(img)\n",
    "print(result[0])\n",
    "result=result.tolist()\n",
    "max_prob=max(result[0])\n",
    "class_ind=result[0].index(max_prob)\n",
    "print(classes[class_ind])"
   ]
  },
  {
   "cell_type": "code",
   "execution_count": 22,
   "id": "83c2fae9",
   "metadata": {},
   "outputs": [
    {
     "name": "stdout",
     "output_type": "stream",
     "text": [
      "1/1 [==============================] - 0s 16ms/step\n",
      "[1.1489703e-03 8.0815768e-01 5.5642049e-03 7.6845870e-05 1.8422785e-01\n",
      " 1.4054948e-04 6.8389927e-04]\n",
      "('bcc', 'basal cell carcinoma')\n"
     ]
    }
   ],
   "source": [
    "image=PIL.Image.open('OneDrive/Desktop/skin dataset/testing/bcc1.jpg')\n",
    "image=image.resize((28,28))\n",
    "img=np.array(image).reshape(-1,28,28,3)\n",
    "result=model1.predict(img)\n",
    "print(result[0])\n",
    "result=result.tolist()\n",
    "max_prob=max(result[0])\n",
    "class_ind=result[0].index(max_prob)\n",
    "print(classes[class_ind])"
   ]
  },
  {
   "cell_type": "code",
   "execution_count": 23,
   "id": "7db83e3e",
   "metadata": {},
   "outputs": [
    {
     "name": "stdout",
     "output_type": "stream",
     "text": [
      "1/1 [==============================] - 0s 16ms/step\n",
      "[8.66373796e-07 9.99997854e-01 2.24214745e-07 1.98833163e-07\n",
      " 1.13744576e-07 1.03973044e-07 5.60743558e-07]\n",
      "('bcc', 'basal cell carcinoma')\n"
     ]
    }
   ],
   "source": [
    "image=PIL.Image.open('OneDrive/Desktop/skin dataset/testing/bcc2.jpg')\n",
    "image=image.resize((28,28))\n",
    "img=np.array(image).reshape(-1,28,28,3)\n",
    "result=model1.predict(img)\n",
    "print(result[0])\n",
    "result=result.tolist()\n",
    "max_prob=max(result[0])\n",
    "class_ind=result[0].index(max_prob)\n",
    "print(classes[class_ind])"
   ]
  },
  {
   "cell_type": "code",
   "execution_count": 24,
   "id": "788a4e9c",
   "metadata": {},
   "outputs": [
    {
     "name": "stdout",
     "output_type": "stream",
     "text": [
      "1/1 [==============================] - 0s 16ms/step\n",
      "[2.3235471e-07 2.7113633e-06 9.2327463e-07 1.2475493e-07 1.9579081e-06\n",
      " 9.9998748e-01 6.7244359e-06]\n",
      "('vasc', ' pyogenic granulomas and hemorrhage')\n"
     ]
    }
   ],
   "source": [
    "image=PIL.Image.open('OneDrive/Desktop/skin dataset/testing/vasc1.jpg')\n",
    "image=image.resize((28,28))\n",
    "img=np.array(image).reshape(-1,28,28,3)\n",
    "result=model1.predict(img)\n",
    "print(result[0])\n",
    "result=result.tolist()\n",
    "max_prob=max(result[0])\n",
    "class_ind=result[0].index(max_prob)\n",
    "print(classes[class_ind])"
   ]
  },
  {
   "cell_type": "code",
   "execution_count": 25,
   "id": "20405086",
   "metadata": {},
   "outputs": [
    {
     "name": "stdout",
     "output_type": "stream",
     "text": [
      "1/1 [==============================] - 0s 24ms/step\n",
      "[5.8944329e-09 1.2295047e-07 1.6115600e-08 7.9492696e-10 3.1330021e-08\n",
      " 9.9999940e-01 4.6893251e-07]\n",
      "('vasc', ' pyogenic granulomas and hemorrhage')\n"
     ]
    }
   ],
   "source": [
    "image=PIL.Image.open('OneDrive/Desktop/skin dataset/testing/vasc2.jpg')\n",
    "image=image.resize((28,28))\n",
    "img=np.array(image).reshape(-1,28,28,3)\n",
    "result=model1.predict(img)\n",
    "print(result[0])\n",
    "result=result.tolist()\n",
    "max_prob=max(result[0])\n",
    "class_ind=result[0].index(max_prob)\n",
    "print(classes[class_ind])"
   ]
  },
  {
   "cell_type": "code",
   "execution_count": null,
   "id": "cadee329",
   "metadata": {},
   "outputs": [],
   "source": []
  }
 ],
 "metadata": {
  "kernelspec": {
   "display_name": "Python 3 (ipykernel)",
   "language": "python",
   "name": "python3"
  },
  "language_info": {
   "codemirror_mode": {
    "name": "ipython",
    "version": 3
   },
   "file_extension": ".py",
   "mimetype": "text/x-python",
   "name": "python",
   "nbconvert_exporter": "python",
   "pygments_lexer": "ipython3",
   "version": "3.9.12"
  }
 },
 "nbformat": 4,
 "nbformat_minor": 5
}
